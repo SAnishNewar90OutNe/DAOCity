{
  "nbformat": 4,
  "nbformat_minor": 0,
  "metadata": {
    "colab": {
      "provenance": [],
      "authorship_tag": "ABX9TyPSzmDN1+h8Z2svrc0tK4ZS",
      "include_colab_link": true
    },
    "kernelspec": {
      "name": "python3",
      "display_name": "Python 3"
    },
    "language_info": {
      "name": "python"
    }
  },
  "cells": [
    {
      "cell_type": "markdown",
      "metadata": {
        "id": "view-in-github",
        "colab_type": "text"
      },
      "source": [
        "<a href=\"https://colab.research.google.com/github/SAnishNewar90OutNe/DAOCity/blob/main/Data_security_WS2_workshop.ipynb\" target=\"_parent\"><img src=\"https://colab.research.google.com/assets/colab-badge.svg\" alt=\"Open In Colab\"/></a>"
      ]
    },
    {
      "cell_type": "code",
      "metadata": {
        "colab": {
          "base_uri": "https://localhost:8080/"
        },
        "id": "a05ca648",
        "outputId": "8eef78b0-1764-4007-815d-6033a5459d36",
        "collapsed": true
      },
      "source": [
        "size = 5 # You can change this value to modify the size\n",
        "for i in range(size):\n",
        "    if i == 0 or i == size - 1:\n",
        "        print('*' * size)\n",
        "    else:\n",
        "        print('*' + ' ' * (size - 2) + '*')"
      ],
      "execution_count": null,
      "outputs": [
        {
          "output_type": "stream",
          "name": "stdout",
          "text": [
            "*****\n",
            "*   *\n",
            "*   *\n",
            "*   *\n",
            "*****\n"
          ]
        }
      ]
    },
    {
      "cell_type": "code",
      "metadata": {
        "colab": {
          "base_uri": "https://localhost:8080/"
        },
        "id": "fffb8a91",
        "outputId": "128505d2-7a08-472f-b89f-84d45c668b86"
      },
      "source": [
        "print(\"Happy Diwali to all my friends! ❤️😊🙏✨\")"
      ],
      "execution_count": null,
      "outputs": [
        {
          "output_type": "stream",
          "name": "stdout",
          "text": [
            "Happy Diwali to all my friends! ❤️😊🙏✨\n"
          ]
        }
      ]
    }
  ]
}